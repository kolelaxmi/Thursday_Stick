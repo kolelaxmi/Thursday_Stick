{
  "nbformat": 4,
  "nbformat_minor": 0,
  "metadata": {
    "colab": {
      "name": "Thursday_Stick.ipynb",
      "provenance": [],
      "toc_visible": true,
      "include_colab_link": true
    },
    "kernelspec": {
      "name": "python3",
      "display_name": "Python 3"
    }
  },
  "cells": [
    {
      "cell_type": "markdown",
      "metadata": {
        "id": "view-in-github",
        "colab_type": "text"
      },
      "source": [
        "<a href=\"https://colab.research.google.com/github/poornaditya1/Thursday_Stick/blob/master/Thursday_Stick.ipynb\" target=\"_parent\"><img src=\"https://colab.research.google.com/assets/colab-badge.svg\" alt=\"Open In Colab\"/></a>"
      ]
    },
    {
      "cell_type": "code",
      "metadata": {
        "id": "oBs04fJQ-dAp",
        "outputId": "ab0e4d60-3f54-47e2-9f15-46451d7eb5b4",
        "colab": {
          "base_uri": "https://localhost:8080/",
          "height": 73
        }
      },
      "source": [
        "from keras.applications.imagenet_utils import preprocess_input, decode_predictions\n",
        "from keras.models import load_model\n",
        "from keras.preprocessing import image\n",
        "from keras.applications.resnet50 import ResNet50\n",
        "\n",
        "\n",
        "model = ResNet50(weights='imagenet')"
      ],
      "execution_count": 1,
      "outputs": [
        {
          "output_type": "stream",
          "text": [
            "Downloading data from https://storage.googleapis.com/tensorflow/keras-applications/resnet/resnet50_weights_tf_dim_ordering_tf_kernels.h5\n",
            "102973440/102967424 [==============================] - 1s 0us/step\n"
          ],
          "name": "stdout"
        }
      ]
    },
    {
      "cell_type": "code",
      "metadata": {
        "id": "Mx9f__11FutV"
      },
      "source": [
        "from google.colab import drive\n",
        "drive.mount('/content/drive')"
      ],
      "execution_count": null,
      "outputs": []
    },
    {
      "cell_type": "code",
      "metadata": {
        "id": "onjuuaXUj_QU"
      },
      "source": [
        "import numpy as np\n",
        "\n",
        "original = image.load_img('/content/car.jpg', target_size=(224, 224))\n",
        "numpy_image = image.img_to_array(original)\n",
        "image_batch = np.expand_dims(numpy_image, axis=0)"
      ],
      "execution_count": 2,
      "outputs": []
    },
    {
      "cell_type": "code",
      "metadata": {
        "id": "mLct1LzdlHNR"
      },
      "source": [
        "processed_image = preprocess_input(image_batch, mode='caffe')"
      ],
      "execution_count": 3,
      "outputs": []
    },
    {
      "cell_type": "code",
      "metadata": {
        "id": "r3t9olUilivC",
        "outputId": "92998475-3105-483e-faa6-c154b695fc22",
        "colab": {
          "base_uri": "https://localhost:8080/",
          "height": 53
        }
      },
      "source": [
        "preds = model.predict(processed_image)\n",
        "pred_class = decode_predictions(preds, top=1)"
      ],
      "execution_count": 4,
      "outputs": [
        {
          "output_type": "stream",
          "text": [
            "Downloading data from https://storage.googleapis.com/download.tensorflow.org/data/imagenet_class_index.json\n",
            "40960/35363 [==================================] - 0s 0us/step\n"
          ],
          "name": "stdout"
        }
      ]
    },
    {
      "cell_type": "code",
      "metadata": {
        "id": "cufwTs8RmghO",
        "outputId": "4d082281-9492-40a7-eda5-194e03a03b4d",
        "colab": {
          "base_uri": "https://localhost:8080/",
          "height": 53
        }
      },
      "source": [
        "def remove(string): \n",
        "    return string.replace(\"_\", \" \") \n",
        "      \n",
        "string = pred_class[0][0][1]\n",
        "print(remove(string)) \n",
        "print(pred_class[0][0][1])"
      ],
      "execution_count": 5,
      "outputs": [
        {
          "output_type": "stream",
          "text": [
            "sports car\n",
            "sports_car\n"
          ],
          "name": "stdout"
        }
      ]
    },
    {
      "cell_type": "code",
      "metadata": {
        "id": "L_-5UcxdRxaS",
        "outputId": "3c3fdb17-7bd7-44af-9eb6-68b86b18c77e",
        "colab": {
          "base_uri": "https://localhost:8080/",
          "height": 382
        }
      },
      "source": [
        "pip install gtts"
      ],
      "execution_count": 7,
      "outputs": [
        {
          "output_type": "stream",
          "text": [
            "Collecting gtts\n",
            "  Downloading https://files.pythonhosted.org/packages/a1/0c/4ca77eca3b739a4a08360930643f58d714e302fee0d2f8c654e67d9af8e7/gTTS-2.1.1-py3-none-any.whl\n",
            "Requirement already satisfied: six in /usr/local/lib/python3.6/dist-packages (from gtts) (1.15.0)\n",
            "Requirement already satisfied: click in /usr/local/lib/python3.6/dist-packages (from gtts) (7.1.2)\n",
            "Requirement already satisfied: beautifulsoup4 in /usr/local/lib/python3.6/dist-packages (from gtts) (4.6.3)\n",
            "Collecting gtts-token>=1.1.3\n",
            "  Downloading https://files.pythonhosted.org/packages/e7/25/ca6e9cd3275bfc3097fe6b06cc31db6d3dfaf32e032e0f73fead9c9a03ce/gTTS-token-1.1.3.tar.gz\n",
            "Requirement already satisfied: requests in /usr/local/lib/python3.6/dist-packages (from gtts) (2.23.0)\n",
            "Requirement already satisfied: chardet<4,>=3.0.2 in /usr/local/lib/python3.6/dist-packages (from requests->gtts) (3.0.4)\n",
            "Requirement already satisfied: certifi>=2017.4.17 in /usr/local/lib/python3.6/dist-packages (from requests->gtts) (2020.6.20)\n",
            "Requirement already satisfied: idna<3,>=2.5 in /usr/local/lib/python3.6/dist-packages (from requests->gtts) (2.10)\n",
            "Requirement already satisfied: urllib3!=1.25.0,!=1.25.1,<1.26,>=1.21.1 in /usr/local/lib/python3.6/dist-packages (from requests->gtts) (1.24.3)\n",
            "Building wheels for collected packages: gtts-token\n",
            "  Building wheel for gtts-token (setup.py) ... \u001b[?25l\u001b[?25hdone\n",
            "  Created wheel for gtts-token: filename=gTTS_token-1.1.3-cp36-none-any.whl size=4096 sha256=144d63afe84a9470b6ca9d04279659ff73e0d0b4dc8bbaa6b8c048ef02a469ef\n",
            "  Stored in directory: /root/.cache/pip/wheels/dd/11/61/33f7e51bf545e910552b2255eead2a7cd8ef54064b46dceb34\n",
            "Successfully built gtts-token\n",
            "Installing collected packages: gtts-token, gtts\n",
            "Successfully installed gtts-2.1.1 gtts-token-1.1.3\n"
          ],
          "name": "stdout"
        }
      ]
    },
    {
      "cell_type": "code",
      "metadata": {
        "id": "IxXFPa6tL_Di",
        "outputId": "22d7d79b-9cee-487f-bd2f-4d9c88e32be5",
        "colab": {
          "base_uri": "https://localhost:8080/",
          "height": 61
        }
      },
      "source": [
        "from gtts import gTTS \n",
        "from IPython.display import Audio\n",
        "tts = gTTS(remove(string)) \n",
        "tts.save('1.mp4')\n",
        "sound_file = '1.mp4'\n",
        "Audio(sound_file, autoplay=True) "
      ],
      "execution_count": 12,
      "outputs": [
        {
          "output_type": "execute_result",
          "data": {
            "text/html": [
              "\n",
              "                <audio controls=\"controls\" autoplay=\"autoplay\">\n",
              "                    <source src=\"data:video/mp4;base64,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\" type=\"video/mp4\" />\n",
              "                    Your browser does not support the audio element.\n",
              "                </audio>\n",
              "              "
            ],
            "text/plain": [
              "<IPython.lib.display.Audio object>"
            ]
          },
          "metadata": {
            "tags": []
          },
          "execution_count": 12
        }
      ]
    },
    {
      "cell_type": "code",
      "metadata": {
        "id": "1U00YvpSmk0N"
      },
      "source": [
        "pip install streamlit"
      ],
      "execution_count": null,
      "outputs": []
    },
    {
      "cell_type": "code",
      "metadata": {
        "id": "CDPGK4H5zzXf"
      },
      "source": [
        "import streamlit as st"
      ],
      "execution_count": null,
      "outputs": []
    },
    {
      "cell_type": "code",
      "metadata": {
        "id": "P6QjxNlBzQUz",
        "outputId": "05acbcbb-5051-4bd6-8c27-2e4ec7e7e3f4",
        "colab": {
          "base_uri": "https://localhost:8080/",
          "height": 35
        }
      },
      "source": [
        "%%writefile ML-app.py\n",
        "\n",
        "import tensorflow as tf\n",
        "from keras.applications.imagenet_utils import preprocess_input, decode_predictions\n",
        "from keras.models import load_model\n",
        "from keras.preprocessing import image\n",
        "from keras.applications.resnet50 import ResNet50\n",
        "import numpy as np\n",
        "from io import BytesIO\n",
        "from gtts import gTTS \n",
        "from IPython.display import Audio\n",
        "\n",
        "\n",
        "model = ResNet50(weights='imagenet')\n",
        "\n",
        "STYLE = \"\"\"\n",
        "<style>\n",
        "img {\n",
        "    max-width: 100%;\n",
        "}\n",
        "</style>\n",
        "\"\"\"\n",
        "\n",
        "def scale_image(image):\n",
        "  return tf.image.resize(image,[224,224])\n",
        "\n",
        "def decode_image(image):\n",
        "  img = tf.image.decode_jpeg(image,channels=3)\n",
        "  img = scale(img)\n",
        "  return img\n",
        "\n",
        "def remove(string): \n",
        "    return string.replace(\"_\", \" \") \n",
        "\n",
        "\n",
        "st.info(__doc__)\n",
        "st.markdown(STYLE, unsafe_allow_html=True)\n",
        "\n",
        "st.title(\"Blind Aid Cane Software Demo\")\n",
        "path = st.text(\"Enter image URL to classify: \",'data:image/jpeg;base64,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')\n",
        "content = requests.get(path).content\n",
        "\n",
        "\n",
        "numpy_image = image.img_to_array(decode_image(content))\n",
        "image_batch = np.expand_dims(numpy_image, axis=0)\n",
        "processed_image = preprocess_input(image_batch, mode='caffe')\n",
        "preds = model.predict(processed_image)\n",
        "pred_class = decode_predictions(preds, top=1)\n",
        "print(pred_class)\n",
        "string = pred_class[0][0][1]\n",
        "\n",
        "\n",
        "tts = gTTS(remove(string)) \n",
        "tts.save('1.mp4')\n",
        "sound_file = '1.mp4'\n",
        "st.audio(sound_file)"
      ],
      "execution_count": 13,
      "outputs": [
        {
          "output_type": "stream",
          "text": [
            "Writing ML-app.py\n"
          ],
          "name": "stdout"
        }
      ]
    },
    {
      "cell_type": "code",
      "metadata": {
        "id": "4HQ7CoTJIgSi"
      },
      "source": [
        "\n"
      ],
      "execution_count": null,
      "outputs": []
    },
    {
      "cell_type": "code",
      "metadata": {
        "id": "xW9Gt-yBI2o5"
      },
      "source": [
        ""
      ],
      "execution_count": null,
      "outputs": []
    }
  ]
}