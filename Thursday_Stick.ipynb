{
  "nbformat": 4,
  "nbformat_minor": 0,
  "metadata": {
    "colab": {
      "name": "Thursday_Stick.ipynb",
      "provenance": [],
      "include_colab_link": true
    },
    "kernelspec": {
      "name": "python3",
      "display_name": "Python 3"
    }
  },
  "cells": [
    {
      "cell_type": "markdown",
      "metadata": {
        "id": "view-in-github",
        "colab_type": "text"
      },
      "source": [
        "<a href=\"https://colab.research.google.com/github/poornaditya1/Thursday_Stick/blob/master/Thursday_Stick.ipynb\" target=\"_parent\"><img src=\"https://colab.research.google.com/assets/colab-badge.svg\" alt=\"Open In Colab\"/></a>"
      ]
    },
    {
      "cell_type": "code",
      "metadata": {
        "id": "oBs04fJQ-dAp"
      },
      "source": [
        "from keras.applications.imagenet_utils import preprocess_input, decode_predictions\n",
        "from keras.models import load_model\n",
        "from keras.preprocessing import image\n",
        "from keras.applications.resnet50 import ResNet50\n",
        "import numpy as np\n",
        "\n",
        "\n",
        "\n",
        "model = ResNet50(weights='imagenet')"
      ],
      "execution_count": 14,
      "outputs": []
    },
    {
      "cell_type": "code",
      "metadata": {
        "id": "qfgnK3G3rtyp",
        "outputId": "19061875-cfc1-4e28-f592-2241ba758e19",
        "colab": {
          "resources": {
            "http://localhost:8080/nbextensions/google.colab/files.js": {
              "data": "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",
              "ok": true,
              "headers": [
                [
                  "content-type",
                  "application/javascript"
                ]
              ],
              "status": 200,
              "status_text": "OK"
            }
          },
          "base_uri": "https://localhost:8080/",
          "height": 73
        }
      },
      "source": [
        "from google.colab import files\n",
        "uploaded = files.upload()\n",
        "for fn in uploaded.keys():\n",
        " \n",
        "  # predicting images\n",
        "  path = fn\n",
        "  img = image.load_img(path, target_size=(224, 224))\n",
        "  numpy_image = image.img_to_array(img)\n",
        "  image_batch = np.expand_dims(numpy_image, axis=0)"
      ],
      "execution_count": 15,
      "outputs": [
        {
          "output_type": "display_data",
          "data": {
            "text/html": [
              "\n",
              "     <input type=\"file\" id=\"files-d4853932-b29c-489d-87e9-38d28b4a06b5\" name=\"files[]\" multiple disabled\n",
              "        style=\"border:none\" />\n",
              "     <output id=\"result-d4853932-b29c-489d-87e9-38d28b4a06b5\">\n",
              "      Upload widget is only available when the cell has been executed in the\n",
              "      current browser session. Please rerun this cell to enable.\n",
              "      </output>\n",
              "      <script src=\"/nbextensions/google.colab/files.js\"></script> "
            ],
            "text/plain": [
              "<IPython.core.display.HTML object>"
            ]
          },
          "metadata": {
            "tags": []
          }
        },
        {
          "output_type": "stream",
          "text": [
            "Saving car.jpg to car (1).jpg\n"
          ],
          "name": "stdout"
        }
      ]
    },
    {
      "cell_type": "code",
      "metadata": {
        "id": "onjuuaXUj_QU"
      },
      "source": [
        "\n",
        "original = image.load_img('/content/car.jpg', target_size=(224, 224))\n",
        "numpy_image = image.img_to_array(original)\n",
        "image_batch = np.expand_dims(numpy_image, axis=0)"
      ],
      "execution_count": 2,
      "outputs": []
    },
    {
      "cell_type": "code",
      "metadata": {
        "id": "mLct1LzdlHNR"
      },
      "source": [
        "processed_image = preprocess_input(image_batch, mode='caffe')"
      ],
      "execution_count": 16,
      "outputs": []
    },
    {
      "cell_type": "code",
      "metadata": {
        "id": "r3t9olUilivC"
      },
      "source": [
        "preds = model.predict(processed_image)\n",
        "pred_class = decode_predictions(preds, top=1)"
      ],
      "execution_count": 17,
      "outputs": []
    },
    {
      "cell_type": "code",
      "metadata": {
        "id": "cufwTs8RmghO",
        "outputId": "15da7a01-bbc3-4a43-c723-4af1dd307d61",
        "colab": {
          "base_uri": "https://localhost:8080/",
          "height": 53
        }
      },
      "source": [
        "def remove(string): \n",
        "    return string.replace(\"_\", \" \") \n",
        "      \n",
        "string = pred_class[0][0][1]\n",
        "print(remove(string)) \n",
        "print(pred_class[0][0][1])"
      ],
      "execution_count": 18,
      "outputs": [
        {
          "output_type": "stream",
          "text": [
            "sports car\n",
            "sports_car\n"
          ],
          "name": "stdout"
        }
      ]
    },
    {
      "cell_type": "code",
      "metadata": {
        "id": "L_-5UcxdRxaS",
        "outputId": "3c3fdb17-7bd7-44af-9eb6-68b86b18c77e",
        "colab": {
          "base_uri": "https://localhost:8080/",
          "height": 362
        }
      },
      "source": [
        "pip install gtts"
      ],
      "execution_count": 7,
      "outputs": [
        {
          "output_type": "stream",
          "text": [
            "Collecting gtts\n",
            "  Downloading https://files.pythonhosted.org/packages/a1/0c/4ca77eca3b739a4a08360930643f58d714e302fee0d2f8c654e67d9af8e7/gTTS-2.1.1-py3-none-any.whl\n",
            "Requirement already satisfied: six in /usr/local/lib/python3.6/dist-packages (from gtts) (1.15.0)\n",
            "Requirement already satisfied: click in /usr/local/lib/python3.6/dist-packages (from gtts) (7.1.2)\n",
            "Requirement already satisfied: beautifulsoup4 in /usr/local/lib/python3.6/dist-packages (from gtts) (4.6.3)\n",
            "Collecting gtts-token>=1.1.3\n",
            "  Downloading https://files.pythonhosted.org/packages/e7/25/ca6e9cd3275bfc3097fe6b06cc31db6d3dfaf32e032e0f73fead9c9a03ce/gTTS-token-1.1.3.tar.gz\n",
            "Requirement already satisfied: requests in /usr/local/lib/python3.6/dist-packages (from gtts) (2.23.0)\n",
            "Requirement already satisfied: chardet<4,>=3.0.2 in /usr/local/lib/python3.6/dist-packages (from requests->gtts) (3.0.4)\n",
            "Requirement already satisfied: certifi>=2017.4.17 in /usr/local/lib/python3.6/dist-packages (from requests->gtts) (2020.6.20)\n",
            "Requirement already satisfied: idna<3,>=2.5 in /usr/local/lib/python3.6/dist-packages (from requests->gtts) (2.10)\n",
            "Requirement already satisfied: urllib3!=1.25.0,!=1.25.1,<1.26,>=1.21.1 in /usr/local/lib/python3.6/dist-packages (from requests->gtts) (1.24.3)\n",
            "Building wheels for collected packages: gtts-token\n",
            "  Building wheel for gtts-token (setup.py) ... \u001b[?25l\u001b[?25hdone\n",
            "  Created wheel for gtts-token: filename=gTTS_token-1.1.3-cp36-none-any.whl size=4096 sha256=144d63afe84a9470b6ca9d04279659ff73e0d0b4dc8bbaa6b8c048ef02a469ef\n",
            "  Stored in directory: /root/.cache/pip/wheels/dd/11/61/33f7e51bf545e910552b2255eead2a7cd8ef54064b46dceb34\n",
            "Successfully built gtts-token\n",
            "Installing collected packages: gtts-token, gtts\n",
            "Successfully installed gtts-2.1.1 gtts-token-1.1.3\n"
          ],
          "name": "stdout"
        }
      ]
    },
    {
      "cell_type": "code",
      "metadata": {
        "id": "IxXFPa6tL_Di",
        "outputId": "c4549832-769c-47e9-f465-13c534dd4fa9",
        "colab": {
          "base_uri": "https://localhost:8080/",
          "height": 61
        }
      },
      "source": [
        "from gtts import gTTS \n",
        "from IPython.display import Audio\n",
        "tts = gTTS(remove(string)) \n",
        "tts.save('output.mp4')\n",
        "sound_file = 'output.mp4'\n",
        "Audio(sound_file, autoplay=True) "
      ],
      "execution_count": 19,
      "outputs": [
        {
          "output_type": "execute_result",
          "data": {
            "text/html": [
              "\n",
              "                <audio controls=\"controls\" autoplay=\"autoplay\">\n",
              "                    <source src=\"data:video/mp4;base64,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\" type=\"video/mp4\" />\n",
              "                    Your browser does not support the audio element.\n",
              "                </audio>\n",
              "              "
            ],
            "text/plain": [
              "<IPython.lib.display.Audio object>"
            ]
          },
          "metadata": {
            "tags": []
          },
          "execution_count": 19
        }
      ]
    },
    {
      "cell_type": "code",
      "metadata": {
        "id": "apmh2jeRsMk9"
      },
      "source": [
        ""
      ],
      "execution_count": null,
      "outputs": []
    }
  ]
}